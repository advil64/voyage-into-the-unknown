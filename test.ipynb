{
 "cells": [
  {
   "cell_type": "code",
   "execution_count": null,
   "source": [
    "# imports\n",
    "from subprocess import check_output\n",
    "import pandas as pd\n",
    "import plotly.express as px\n",
    "import plotly\n",
    "import re\n",
    "import nbformat\n",
    "import time"
   ],
   "outputs": [],
   "metadata": {}
  },
  {
   "cell_type": "code",
   "execution_count": null,
   "source": [
    "# run code for each p value repeat times from 0.1 to 0.9\n",
    "scores = []\n",
    "repeat = 20\n",
    "\n",
    "for i in range(10):\n",
    "    count = 0\n",
    "    p = 0.1 * i\n",
    "    for x in range(repeat):\n",
    "        command = 'python main.py -d 101 -a a_star -p {}'.format(p)\n",
    "        out = str(check_output(command, cwd='/Users/advithchegu/Desktop/Rutgers/Fall 2021/AI/Assignment 1', shell=True))\n",
    "        if 'No Path Found' in out:\n",
    "            continue\n",
    "        else:\n",
    "            count += 1\n",
    "    count /= repeat\n",
    "    scores.append(count)\n",
    "\n",
    "print(scores)"
   ],
   "outputs": [],
   "metadata": {}
  },
  {
   "cell_type": "code",
   "execution_count": null,
   "source": [
    "# conver the scores list to a dict\n",
    "scores_dict = dict(zip([0, 0.1, 0.2, 0.3, 0.4, 0.5, 0.6, 0.7, 0.8, 0.9], scores))\n",
    "scores_df = pd.DataFrame.from_dict(scores_dict, orient='index').reset_index()\n",
    "scores_df.columns = [\"probability\", \"solvability\"]\n",
    "# plot the scores array\n",
    "\n",
    "fig = px.line(scores_df, x=\"probability\", y=\"solvability\", title='Plot Density vs Solvability')\n",
    "fig.show()\n",
    "\n",
    "plotly.io.write_image(fig, file=\"./graphs/question_4.png\", scale=5)"
   ],
   "outputs": [],
   "metadata": {}
  },
  {
   "cell_type": "code",
   "execution_count": null,
   "source": [
    "# measure heuristic efficiency\n",
    "times_df = pd.DataFrame(columns = ['Time', 'Heuristic'])\n",
    "\n",
    "for x in range(100):\n",
    "    command = 'python main.py -d 500 -a a_star -m all -p 0.4'\n",
    "    out = str(check_output(command, cwd='/Users/advithchegu/Desktop/Rutgers/Fall 2021/AI/Assignment 1', shell=True))\n",
    "    formatted = out.rstrip(\"]\\\\n'\").lstrip(\"b'[\").split(', ')\n",
    "    list(map(float, formatted))\n",
    "\n",
    "    times_df = times_df.append([{'Time': formatted[0], 'Heuristic': 'Chebyshev'}, {'Time': formatted[1], 'Heuristic': 'Manhattan'}, {'Time': formatted[2], 'Heuristic': 'Euclidian'}], ignore_index=True)\n",
    "\n",
    "    # print(formatted)\n",
    "\n",
    "\n",
    "print(times_df)"
   ],
   "outputs": [],
   "metadata": {}
  },
  {
   "cell_type": "code",
   "execution_count": null,
   "source": [
    "# plot the box plots\n",
    "fig = px.box(times_df, x=\"Heuristic\", y=\"Time\", title=\"Heuristics vs Time\")\n",
    "fig.show()\n",
    "plotly.io.write_image(fig, file=\"./graphs/question_5.jpg\", scale=5)"
   ],
   "outputs": [],
   "metadata": {}
  },
  {
   "cell_type": "code",
   "execution_count": null,
   "source": [
    "question_six_df = pd.DataFrame(columns = ['Density', 'Trajectory', 'Discovered Shortest Path', 'Final Shortest Path', 'Processed Cells', 'Trial'])\n",
    "\n",
    "for i in range(100):\n",
    "    for x in range(12):\n",
    "        p = 0.03*x\n",
    "        command = 'python main.py -d 101 -a repeated_a_star -m all -p ' + str(p)\n",
    "\n",
    "        while True:\n",
    "            out = str(check_output(command, cwd='/Users/advithchegu/Desktop/Rutgers/Fall 2021/AI/Assignment 1', shell=True))\n",
    "            trajectory = int(re.search(r\"Trajectory Length: \\d+\", out).group().lstrip(\"Trajectory Length: \"))\n",
    "            shortest_path = int(re.search(r\"Shortest Path: \\d+\", out).group().lstrip(\"Shortest Path: \"))\n",
    "            full_world_shortest_path = int(re.search(r\"Full Gridworld Path: \\d+\", out).group().lstrip(\"Full Gridworld Path: \"))\n",
    "            processed_cells = int(re.search(r\"Processed \\d+\", out).group().lstrip(\"Processed \"))\n",
    "\n",
    "            if shortest_path > 0:\n",
    "                break\n",
    "        \n",
    "        question_six_df = question_six_df.append([{'Density': p, 'Trajectory': trajectory, 'Discovered Shortest Path': shortest_path, 'Final Shortest Path': full_world_shortest_path, 'Processed Cells': processed_cells, 'Trial': i+1}])\n",
    "# print(question_six_df)"
   ],
   "outputs": [],
   "metadata": {}
  },
  {
   "cell_type": "code",
   "execution_count": null,
   "source": [
    "grouped_df = question_six_df.groupby('Density')\n",
    "avg_df = grouped_df.mean()\n",
    "avg_df = avg_df.reset_index()"
   ],
   "outputs": [],
   "metadata": {}
  },
  {
   "cell_type": "code",
   "execution_count": null,
   "source": [
    "# do some calculations\n",
    "avg_df['Trajectory / Shortest Path (Disc.)'] = round(avg_df['Trajectory'] / avg_df['Discovered Shortest Path'], 3)\n",
    "avg_df['Shortest Path (Disc.) / Shortest Path (Final)'] = round(avg_df['Discovered Shortest Path'] / avg_df['Final Shortest Path'], 3)"
   ],
   "outputs": [],
   "metadata": {}
  },
  {
   "cell_type": "code",
   "execution_count": null,
   "source": [
    "\n",
    "fig1 = px.line(avg_df, x=\"Density\", y=\"Trajectory\", title='Density vs Average Trajectory Length', text='Trajectory')\n",
    "fig1.update_xaxes(dtick=0.03)\n",
    "fig1.update_traces(textposition=\"bottom right\")\n",
    "fig1.show()\n",
    "\n",
    "plotly.io.write_image(fig1, file=\"./graphs/question_6_1.png\", scale=5)"
   ],
   "outputs": [],
   "metadata": {}
  },
  {
   "cell_type": "code",
   "execution_count": null,
   "source": [
    "fig2 = px.line(avg_df, x=\"Density\", y=\"Trajectory / Shortest Path (Disc.)\", title='Density vs Average Shortest Path Lengths', text='Trajectory / Shortest Path (Disc.)')\n",
    "fig2.update_xaxes(dtick=0.03)\n",
    "fig2.update_traces(textposition=\"bottom right\")\n",
    "fig2.show()\n",
    "\n",
    "plotly.io.write_image(fig2, file=\"./graphs/question_6_2.png\", scale=5)"
   ],
   "outputs": [],
   "metadata": {}
  },
  {
   "cell_type": "code",
   "execution_count": null,
   "source": [
    "fig3 = px.line(avg_df, x=\"Density\", y=\"Shortest Path (Disc.) / Shortest Path (Final)\", title='Density vs Average Shortest Path Lengths', text='Shortest Path (Disc.) / Shortest Path (Final)')\n",
    "fig3.update_xaxes(dtick=0.03)\n",
    "fig3.update_traces(textposition=\"bottom right\")\n",
    "fig3.show()\n",
    "\n",
    "plotly.io.write_image(fig3, file=\"./graphs/question_6_3.png\", scale=5)"
   ],
   "outputs": [],
   "metadata": {}
  },
  {
   "cell_type": "code",
   "execution_count": null,
   "source": [
    "fig4 = px.line(avg_df, x=\"Density\", y=\"Processed Cells\", title='Density vs Processed Cells', text='Processed Cells')\n",
    "fig4.update_xaxes(dtick=0.03)\n",
    "fig4.update_traces(textposition=\"bottom right\")\n",
    "fig4.show()\n",
    "\n",
    "plotly.io.write_image(fig3, file=\"./graphs/question_6_4.png\", scale=5)"
   ],
   "outputs": [],
   "metadata": {}
  }
 ],
 "metadata": {
  "orig_nbformat": 4,
  "language_info": {
   "name": "python",
   "version": "3.7.4",
   "mimetype": "text/x-python",
   "codemirror_mode": {
    "name": "ipython",
    "version": 3
   },
   "pygments_lexer": "ipython3",
   "nbconvert_exporter": "python",
   "file_extension": ".py"
  },
  "kernelspec": {
   "name": "python3",
   "display_name": "Python 3.7.4 64-bit ('Assignment_1-EiHcuPt_': virtualenv)"
  },
  "interpreter": {
   "hash": "40668e00e75314677469e0f944e09e48f2238958bb35b68085ad428d095cdb0e"
  }
 },
 "nbformat": 4,
 "nbformat_minor": 2
}