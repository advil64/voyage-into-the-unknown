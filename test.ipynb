{
 "cells": [
  {
   "cell_type": "code",
   "execution_count": null,
   "source": [
    "# imports\n",
    "from subprocess import check_output\n",
    "import pandas as pd\n",
    "import plotly.express as px\n",
    "import plotly\n",
    "import nbformat\n",
    "import time"
   ],
   "outputs": [],
   "metadata": {}
  },
  {
   "cell_type": "markdown",
   "source": [
    "A gridworld is solvable if it has a clear path from start to goal nodes. How does solvability depend on p? Given dim = 101, how does solvability depend on p? For a range of p values, estimate the probability that a maze will be solvable by generating multiple environments and checking them for solvability. Plot density vs solvability, and try to identify as accurately as you can the threshold p_0 where for p < p_0, most mazes are solvable, but p > p_0, most mazes are not solvable. Is A* the best search algorithm to use here, to test for solvability? Note for this problem you may assume that the entire gridworld is known, and hence only needs to be searched once each."
   ],
   "metadata": {}
  },
  {
   "cell_type": "code",
   "execution_count": null,
   "source": [
    "# run code for each p value repeat times from 0.1 to 0.9\n",
    "scores = []\n",
    "repeat = 20\n",
    "\n",
    "for i in range(10):\n",
    "    count = 0\n",
    "    p = 0.1 * i\n",
    "    for x in range(repeat):\n",
    "        command = 'python main.py -d 101 -a a_star -p {}'.format(p)\n",
    "        out = str(check_output(command, cwd='/Users/advithchegu/Desktop/Rutgers/Fall 2021/AI/Assignment 1', shell=True))\n",
    "        if 'No Path Found' in out:\n",
    "            continue\n",
    "        else:\n",
    "            count += 1\n",
    "    count /= repeat\n",
    "    scores.append(count)\n",
    "\n",
    "print(scores)"
   ],
   "outputs": [],
   "metadata": {}
  },
  {
   "cell_type": "code",
   "execution_count": null,
   "source": [
    "# conver the scores list to a dict\n",
    "scores_dict = dict(zip([0, 0.1, 0.2, 0.3, 0.4, 0.5, 0.6, 0.7, 0.8, 0.9], scores))\n",
    "scores_df = pd.DataFrame.from_dict(scores_dict, orient='index').reset_index()\n",
    "scores_df.columns = [\"probability\", \"solvability\"]\n",
    "# plot the scores array\n",
    "\n",
    "fig = px.line(scores_df, x=\"probability\", y=\"solvability\", title='Plot Density vs Solvability')\n",
    "fig.show()\n",
    "\n",
    "plotly.io.write_image(fig, file=\"./graphs/question_4.png\", scale=5)"
   ],
   "outputs": [],
   "metadata": {}
  },
  {
   "cell_type": "code",
   "execution_count": 43,
   "source": [
    "# measure heuristic efficiency\n",
    "times_df = pd.DataFrame(columns = ['Time', 'Heuristic'])\n",
    "\n",
    "for x in range(100):\n",
    "    command = 'python main.py -d 500 -a a_star -m all -p 0.4'\n",
    "    out = str(check_output(command, cwd='/Users/advithchegu/Desktop/Rutgers/Fall 2021/AI/Assignment 1', shell=True))\n",
    "    formatted = out.rstrip(\"]\\\\n'\").lstrip(\"b'[\").split(', ')\n",
    "    list(map(float, formatted))\n",
    "\n",
    "    times_df = times_df.append([{'Time': formatted[0], 'Heuristic': 'Chebyshev'}, {'Time': formatted[1], 'Heuristic': 'Manhattan'}, {'Time': formatted[2], 'Heuristic': 'Euclidian'}], ignore_index=True)\n",
    "\n",
    "    # print(formatted)\n",
    "\n",
    "\n",
    "print(times_df)"
   ],
   "outputs": [
    {
     "output_type": "stream",
     "name": "stdout",
     "text": [
      "                       Time  Heuristic\n",
      "0     4.100799560546875e-05  Chebyshev\n",
      "1    1.0967254638671875e-05  Manhattan\n",
      "2    1.1920928955078125e-05  Euclidian\n",
      "3      0.014594793319702148  Chebyshev\n",
      "4      0.018244266510009766  Manhattan\n",
      "..                      ...        ...\n",
      "295  0.00023293495178222656  Manhattan\n",
      "296   0.0002639293670654297  Euclidian\n",
      "297   0.0057981014251708984  Chebyshev\n",
      "298   0.0031201839447021484  Manhattan\n",
      "299    0.004827976226806641  Euclidian\n",
      "\n",
      "[300 rows x 2 columns]\n"
     ]
    }
   ],
   "metadata": {}
  },
  {
   "cell_type": "code",
   "execution_count": 44,
   "source": [
    "# plot the box plots\n",
    "fig = px.box(times_df, x=\"Heuristic\", y=\"Time\", title=\"Heuristics vs Time\")\n",
    "fig.show()\n",
    "plotly.io.write_image(fig, file=\"./graphs/question_5.jpg\", scale=5)"
   ],
   "outputs": [
    {
     "output_type": "display_data",
     "data": {
      "application/vnd.plotly.v1+json": {
       "config": {
        "plotlyServerURL": "https://plot.ly"
       },
       "data": [
        {
         "alignmentgroup": "True",
         "hovertemplate": "Heuristic=%{x}<br>Time=%{y}<extra></extra>",
         "legendgroup": "",
         "marker": {
          "color": "#636efa"
         },
         "name": "",
         "notched": false,
         "offsetgroup": "",
         "orientation": "v",
         "showlegend": false,
         "type": "box",
         "x": [
          "Chebyshev",
          "Manhattan",
          "Euclidian",
          "Chebyshev",
          "Manhattan",
          "Euclidian",
          "Chebyshev",
          "Manhattan",
          "Euclidian",
          "Chebyshev",
          "Manhattan",
          "Euclidian",
          "Chebyshev",
          "Manhattan",
          "Euclidian",
          "Chebyshev",
          "Manhattan",
          "Euclidian",
          "Chebyshev",
          "Manhattan",
          "Euclidian",
          "Chebyshev",
          "Manhattan",
          "Euclidian",
          "Chebyshev",
          "Manhattan",
          "Euclidian",
          "Chebyshev",
          "Manhattan",
          "Euclidian",
          "Chebyshev",
          "Manhattan",
          "Euclidian",
          "Chebyshev",
          "Manhattan",
          "Euclidian",
          "Chebyshev",
          "Manhattan",
          "Euclidian",
          "Chebyshev",
          "Manhattan",
          "Euclidian",
          "Chebyshev",
          "Manhattan",
          "Euclidian",
          "Chebyshev",
          "Manhattan",
          "Euclidian",
          "Chebyshev",
          "Manhattan",
          "Euclidian",
          "Chebyshev",
          "Manhattan",
          "Euclidian",
          "Chebyshev",
          "Manhattan",
          "Euclidian",
          "Chebyshev",
          "Manhattan",
          "Euclidian",
          "Chebyshev",
          "Manhattan",
          "Euclidian",
          "Chebyshev",
          "Manhattan",
          "Euclidian",
          "Chebyshev",
          "Manhattan",
          "Euclidian",
          "Chebyshev",
          "Manhattan",
          "Euclidian",
          "Chebyshev",
          "Manhattan",
          "Euclidian",
          "Chebyshev",
          "Manhattan",
          "Euclidian",
          "Chebyshev",
          "Manhattan",
          "Euclidian",
          "Chebyshev",
          "Manhattan",
          "Euclidian",
          "Chebyshev",
          "Manhattan",
          "Euclidian",
          "Chebyshev",
          "Manhattan",
          "Euclidian",
          "Chebyshev",
          "Manhattan",
          "Euclidian",
          "Chebyshev",
          "Manhattan",
          "Euclidian",
          "Chebyshev",
          "Manhattan",
          "Euclidian",
          "Chebyshev",
          "Manhattan",
          "Euclidian",
          "Chebyshev",
          "Manhattan",
          "Euclidian",
          "Chebyshev",
          "Manhattan",
          "Euclidian",
          "Chebyshev",
          "Manhattan",
          "Euclidian",
          "Chebyshev",
          "Manhattan",
          "Euclidian",
          "Chebyshev",
          "Manhattan",
          "Euclidian",
          "Chebyshev",
          "Manhattan",
          "Euclidian",
          "Chebyshev",
          "Manhattan",
          "Euclidian",
          "Chebyshev",
          "Manhattan",
          "Euclidian",
          "Chebyshev",
          "Manhattan",
          "Euclidian",
          "Chebyshev",
          "Manhattan",
          "Euclidian",
          "Chebyshev",
          "Manhattan",
          "Euclidian",
          "Chebyshev",
          "Manhattan",
          "Euclidian",
          "Chebyshev",
          "Manhattan",
          "Euclidian",
          "Chebyshev",
          "Manhattan",
          "Euclidian",
          "Chebyshev",
          "Manhattan",
          "Euclidian",
          "Chebyshev",
          "Manhattan",
          "Euclidian",
          "Chebyshev",
          "Manhattan",
          "Euclidian",
          "Chebyshev",
          "Manhattan",
          "Euclidian",
          "Chebyshev",
          "Manhattan",
          "Euclidian",
          "Chebyshev",
          "Manhattan",
          "Euclidian",
          "Chebyshev",
          "Manhattan",
          "Euclidian",
          "Chebyshev",
          "Manhattan",
          "Euclidian",
          "Chebyshev",
          "Manhattan",
          "Euclidian",
          "Chebyshev",
          "Manhattan",
          "Euclidian",
          "Chebyshev",
          "Manhattan",
          "Euclidian",
          "Chebyshev",
          "Manhattan",
          "Euclidian",
          "Chebyshev",
          "Manhattan",
          "Euclidian",
          "Chebyshev",
          "Manhattan",
          "Euclidian",
          "Chebyshev",
          "Manhattan",
          "Euclidian",
          "Chebyshev",
          "Manhattan",
          "Euclidian",
          "Chebyshev",
          "Manhattan",
          "Euclidian",
          "Chebyshev",
          "Manhattan",
          "Euclidian",
          "Chebyshev",
          "Manhattan",
          "Euclidian",
          "Chebyshev",
          "Manhattan",
          "Euclidian",
          "Chebyshev",
          "Manhattan",
          "Euclidian",
          "Chebyshev",
          "Manhattan",
          "Euclidian",
          "Chebyshev",
          "Manhattan",
          "Euclidian",
          "Chebyshev",
          "Manhattan",
          "Euclidian",
          "Chebyshev",
          "Manhattan",
          "Euclidian",
          "Chebyshev",
          "Manhattan",
          "Euclidian",
          "Chebyshev",
          "Manhattan",
          "Euclidian",
          "Chebyshev",
          "Manhattan",
          "Euclidian",
          "Chebyshev",
          "Manhattan",
          "Euclidian",
          "Chebyshev",
          "Manhattan",
          "Euclidian",
          "Chebyshev",
          "Manhattan",
          "Euclidian",
          "Chebyshev",
          "Manhattan",
          "Euclidian",
          "Chebyshev",
          "Manhattan",
          "Euclidian",
          "Chebyshev",
          "Manhattan",
          "Euclidian",
          "Chebyshev",
          "Manhattan",
          "Euclidian",
          "Chebyshev",
          "Manhattan",
          "Euclidian",
          "Chebyshev",
          "Manhattan",
          "Euclidian",
          "Chebyshev",
          "Manhattan",
          "Euclidian",
          "Chebyshev",
          "Manhattan",
          "Euclidian",
          "Chebyshev",
          "Manhattan",
          "Euclidian",
          "Chebyshev",
          "Manhattan",
          "Euclidian",
          "Chebyshev",
          "Manhattan",
          "Euclidian",
          "Chebyshev",
          "Manhattan",
          "Euclidian",
          "Chebyshev",
          "Manhattan",
          "Euclidian",
          "Chebyshev",
          "Manhattan",
          "Euclidian",
          "Chebyshev",
          "Manhattan",
          "Euclidian",
          "Chebyshev",
          "Manhattan",
          "Euclidian",
          "Chebyshev",
          "Manhattan",
          "Euclidian",
          "Chebyshev",
          "Manhattan",
          "Euclidian",
          "Chebyshev",
          "Manhattan",
          "Euclidian",
          "Chebyshev",
          "Manhattan",
          "Euclidian",
          "Chebyshev",
          "Manhattan",
          "Euclidian"
         ],
         "x0": " ",
         "xaxis": "x",
         "y": [
          "4.100799560546875e-05",
          "1.0967254638671875e-05",
          "1.1920928955078125e-05",
          "0.014594793319702148",
          "0.018244266510009766",
          "0.01180410385131836",
          "0.0010960102081298828",
          "0.0006861686706542969",
          "0.001573324203491211",
          "4.8160552978515625e-05",
          "1.0967254638671875e-05",
          "1.4066696166992188e-05",
          "6.818771362304688e-05",
          "2.7894973754882812e-05",
          "3.0994415283203125e-05",
          "0.00019478797912597656",
          "0.00014209747314453125",
          "0.0001590251922607422",
          "7.700920104980469e-05",
          "3.600120544433594e-05",
          "4.315376281738281e-05",
          "6.914138793945312e-05",
          "3.218650817871094e-05",
          "3.695487976074219e-05",
          "0.0002048015594482422",
          "0.0001480579376220703",
          "0.00026106834411621094",
          "0.010833024978637695",
          "0.011632204055786133",
          "0.009634017944335938",
          "0.0008769035339355469",
          "0.0007729530334472656",
          "0.0008521080017089844",
          "7.009506225585938e-05",
          "3.0994415283203125e-05",
          "3.600120544433594e-05",
          "0.00014090538024902344",
          "6.771087646484375e-05",
          "7.700920104980469e-05",
          "0.704218864440918",
          "0.7144818305969238",
          "0.7510731220245361",
          "0.0012118816375732422",
          "0.001096963882446289",
          "0.0012171268463134766",
          "5.1975250244140625e-05",
          "1.9073486328125e-05",
          "2.002716064453125e-05",
          "0.001135110855102539",
          "0.001013040542602539",
          "0.0011200904846191406",
          "9.512901306152344e-05",
          "4.100799560546875e-05",
          "4.792213439941406e-05",
          "0.0180511474609375",
          "0.012641191482543945",
          "0.013824939727783203",
          "9.584426879882812e-05",
          "5.793571472167969e-05",
          "6.198883056640625e-05",
          "0.00028896331787109375",
          "0.00021696090698242188",
          "0.00024700164794921875",
          "0.00039196014404296875",
          "0.00032591819763183594",
          "0.00036597251892089844",
          "4.410743713378906e-05",
          "1.0967254638671875e-05",
          "1.3113021850585938e-05",
          "6.413459777832031e-05",
          "2.5987625122070312e-05",
          "2.9087066650390625e-05",
          "0.0004379749298095703",
          "0.0003662109375",
          "0.0004076957702636719",
          "4.601478576660156e-05",
          "1.0967254638671875e-05",
          "1.2636184692382812e-05",
          "0.00019502639770507812",
          "0.00014400482177734375",
          "0.00016117095947265625",
          "1.4296491146087646",
          "1.6136910915374756",
          "1.5214641094207764",
          "0.00015211105346679688",
          "8.320808410644531e-05",
          "9.179115295410156e-05",
          "4.8160552978515625e-05",
          "1.2159347534179688e-05",
          "1.2874603271484375e-05",
          "0.00028896331787109375",
          "0.0003001689910888672",
          "0.00028204917907714844",
          "4.506111145019531e-05",
          "1.0728836059570312e-05",
          "1.3113021850585938e-05",
          "0.004489898681640625",
          "9.489059448242188e-05",
          "0.00010514259338378906",
          "0.0003108978271484375",
          "0.0002486705780029297",
          "0.00028324127197265625",
          "8.916854858398438e-05",
          "4.601478576660156e-05",
          "5.1975250244140625e-05",
          "5.316734313964844e-05",
          "1.7881393432617188e-05",
          "2.193450927734375e-05",
          "0.000247955322265625",
          "0.00018405914306640625",
          "0.0002071857452392578",
          "3.886222839355469e-05",
          "1.1205673217773438e-05",
          "1.2874603271484375e-05",
          "6.079673767089844e-05",
          "2.5033950805664062e-05",
          "2.7894973754882812e-05",
          "0.0010221004486083984",
          "0.0009031295776367188",
          "0.0010311603546142578",
          "4.142168998718262",
          "1.6430208683013916",
          "1.4118919372558594",
          "5.412101745605469e-05",
          "1.0967254638671875e-05",
          "1.3113021850585938e-05",
          "0.004689931869506836",
          "0.003141164779663086",
          "0.003464937210083008",
          "0.0008282661437988281",
          "0.0007410049438476562",
          "0.000820159912109375",
          "1.3112568855285645",
          "1.6640350818634033",
          "1.4421980381011963",
          "0.0001900196075439453",
          "0.00015616416931152344",
          "0.00018262863159179688",
          "0.00017309188842773438",
          "0.00011897087097167969",
          "0.0001361370086669922",
          "0.0002281665802001953",
          "0.00016808509826660156",
          "0.0001900196075439453",
          "8.0108642578125e-05",
          "3.886222839355469e-05",
          "4.315376281738281e-05",
          "0.0888669490814209",
          "0.08312010765075684",
          "0.09447717666625977",
          "0.8555300235748291",
          "0.8890397548675537",
          "0.8897862434387207",
          "0.7388370037078857",
          "0.755626916885376",
          "0.7609720230102539",
          "1.188366174697876",
          "1.2688419818878174",
          "1.2123210430145264",
          "4.982948303222656e-05",
          "1.811981201171875e-05",
          "2.09808349609375e-05",
          "0.003325939178466797",
          "0.0018529891967773438",
          "0.0020411014556884766",
          "6.198883056640625e-05",
          "2.8848648071289062e-05",
          "3.218650817871094e-05",
          "5.316734313964844e-05",
          "1.7881393432617188e-05",
          "2.193450927734375e-05",
          "4.410743713378906e-05",
          "1.0967254638671875e-05",
          "1.3113021850585938e-05",
          "7.224082946777344e-05",
          "3.0994415283203125e-05",
          "3.4809112548828125e-05",
          "0.00013184547424316406",
          "8.106231689453125e-05",
          "8.96453857421875e-05",
          "8.893013000488281e-05",
          "4.8160552978515625e-05",
          "5.1021575927734375e-05",
          "5.888938903808594e-05",
          "1.9073486328125e-05",
          "2.09808349609375e-05",
          "0.1101839542388916",
          "0.10330605506896973",
          "0.11425375938415527",
          "5.1975250244140625e-05",
          "1.7881393432617188e-05",
          "2.09808349609375e-05",
          "0.00021886825561523438",
          "0.000141143798828125",
          "0.00015997886657714844",
          "3.886222839355469e-05",
          "1.0967254638671875e-05",
          "1.2159347534179688e-05",
          "0.0015418529510498047",
          "0.0019130706787109375",
          "0.0009739398956298828",
          "0.03266406059265137",
          "0.026307106018066406",
          "0.030832290649414062",
          "6.67572021484375e-05",
          "2.5272369384765625e-05",
          "2.8848648071289062e-05",
          "0.00019288063049316406",
          "0.00013375282287597656",
          "0.00015687942504882812",
          "8.487701416015625e-05",
          "3.600120544433594e-05",
          "4.1961669921875e-05",
          "1.4947810173034668",
          "1.7843990325927734",
          "1.4429199695587158",
          "0.004396200180053711",
          "0.002821207046508789",
          "0.0030798912048339844",
          "6.794929504394531e-05",
          "2.5033950805664062e-05",
          "2.8848648071289062e-05",
          "0.006350040435791016",
          "0.004775047302246094",
          "0.00521087646484375",
          "5.602836608886719e-05",
          "1.811981201171875e-05",
          "2.09808349609375e-05",
          "5.412101745605469e-05",
          "1.7881393432617188e-05",
          "2.002716064453125e-05",
          "3.981590270996094e-05",
          "1.0967254638671875e-05",
          "1.3113021850585938e-05",
          "1.5640499591827393",
          "1.7482011318206787",
          "2.4464147090911865",
          "4.8160552978515625e-05",
          "1.1920928955078125e-05",
          "1.2874603271484375e-05",
          "7.605552673339844e-05",
          "2.6941299438476562e-05",
          "3.0994415283203125e-05",
          "0.050813913345336914",
          "0.037903785705566406",
          "0.04787611961364746",
          "8.702278137207031e-05",
          "4.506111145019531e-05",
          "5.1975250244140625e-05",
          "1.4933099746704102",
          "1.8374919891357422",
          "1.638592004776001",
          "0.01391911506652832",
          "0.014631032943725586",
          "0.014075279235839844",
          "5.602836608886719e-05",
          "1.7881393432617188e-05",
          "2.09808349609375e-05",
          "2.823786973953247",
          "1.4470868110656738",
          "1.4709908962249756",
          "4.887580871582031e-05",
          "1.3113021850585938e-05",
          "1.2874603271484375e-05",
          "1.6342370510101318",
          "1.6619861125946045",
          "1.6793651580810547",
          "0.0008399486541748047",
          "0.0009179115295410156",
          "0.0010950565338134766",
          "8.416175842285156e-05",
          "4.887580871582031e-05",
          "5.078315734863281e-05",
          "0.00012373924255371094",
          "6.866455078125e-05",
          "7.700920104980469e-05",
          "0.00014400482177734375",
          "5.91278076171875e-05",
          "6.67572021484375e-05",
          "0.00017404556274414062",
          "0.00011420249938964844",
          "0.00012969970703125",
          "0.0006248950958251953",
          "0.0005340576171875",
          "0.0006320476531982422",
          "1.1679339408874512",
          "0.9306652545928955",
          "1.1689388751983643",
          "0.00020313262939453125",
          "0.0001380443572998047",
          "0.00015592575073242188",
          "0.004244089126586914",
          "0.0035181045532226562",
          "0.003371000289916992",
          "0.00030112266540527344",
          "0.00023293495178222656",
          "0.0002639293670654297",
          "0.0057981014251708984",
          "0.0031201839447021484",
          "0.004827976226806641"
         ],
         "y0": " ",
         "yaxis": "y"
        }
       ],
       "layout": {
        "boxmode": "group",
        "legend": {
         "tracegroupgap": 0
        },
        "template": {
         "data": {
          "bar": [
           {
            "error_x": {
             "color": "#2a3f5f"
            },
            "error_y": {
             "color": "#2a3f5f"
            },
            "marker": {
             "line": {
              "color": "#E5ECF6",
              "width": 0.5
             },
             "pattern": {
              "fillmode": "overlay",
              "size": 10,
              "solidity": 0.2
             }
            },
            "type": "bar"
           }
          ],
          "barpolar": [
           {
            "marker": {
             "line": {
              "color": "#E5ECF6",
              "width": 0.5
             },
             "pattern": {
              "fillmode": "overlay",
              "size": 10,
              "solidity": 0.2
             }
            },
            "type": "barpolar"
           }
          ],
          "carpet": [
           {
            "aaxis": {
             "endlinecolor": "#2a3f5f",
             "gridcolor": "white",
             "linecolor": "white",
             "minorgridcolor": "white",
             "startlinecolor": "#2a3f5f"
            },
            "baxis": {
             "endlinecolor": "#2a3f5f",
             "gridcolor": "white",
             "linecolor": "white",
             "minorgridcolor": "white",
             "startlinecolor": "#2a3f5f"
            },
            "type": "carpet"
           }
          ],
          "choropleth": [
           {
            "colorbar": {
             "outlinewidth": 0,
             "ticks": ""
            },
            "type": "choropleth"
           }
          ],
          "contour": [
           {
            "colorbar": {
             "outlinewidth": 0,
             "ticks": ""
            },
            "colorscale": [
             [
              0,
              "#0d0887"
             ],
             [
              0.1111111111111111,
              "#46039f"
             ],
             [
              0.2222222222222222,
              "#7201a8"
             ],
             [
              0.3333333333333333,
              "#9c179e"
             ],
             [
              0.4444444444444444,
              "#bd3786"
             ],
             [
              0.5555555555555556,
              "#d8576b"
             ],
             [
              0.6666666666666666,
              "#ed7953"
             ],
             [
              0.7777777777777778,
              "#fb9f3a"
             ],
             [
              0.8888888888888888,
              "#fdca26"
             ],
             [
              1,
              "#f0f921"
             ]
            ],
            "type": "contour"
           }
          ],
          "contourcarpet": [
           {
            "colorbar": {
             "outlinewidth": 0,
             "ticks": ""
            },
            "type": "contourcarpet"
           }
          ],
          "heatmap": [
           {
            "colorbar": {
             "outlinewidth": 0,
             "ticks": ""
            },
            "colorscale": [
             [
              0,
              "#0d0887"
             ],
             [
              0.1111111111111111,
              "#46039f"
             ],
             [
              0.2222222222222222,
              "#7201a8"
             ],
             [
              0.3333333333333333,
              "#9c179e"
             ],
             [
              0.4444444444444444,
              "#bd3786"
             ],
             [
              0.5555555555555556,
              "#d8576b"
             ],
             [
              0.6666666666666666,
              "#ed7953"
             ],
             [
              0.7777777777777778,
              "#fb9f3a"
             ],
             [
              0.8888888888888888,
              "#fdca26"
             ],
             [
              1,
              "#f0f921"
             ]
            ],
            "type": "heatmap"
           }
          ],
          "heatmapgl": [
           {
            "colorbar": {
             "outlinewidth": 0,
             "ticks": ""
            },
            "colorscale": [
             [
              0,
              "#0d0887"
             ],
             [
              0.1111111111111111,
              "#46039f"
             ],
             [
              0.2222222222222222,
              "#7201a8"
             ],
             [
              0.3333333333333333,
              "#9c179e"
             ],
             [
              0.4444444444444444,
              "#bd3786"
             ],
             [
              0.5555555555555556,
              "#d8576b"
             ],
             [
              0.6666666666666666,
              "#ed7953"
             ],
             [
              0.7777777777777778,
              "#fb9f3a"
             ],
             [
              0.8888888888888888,
              "#fdca26"
             ],
             [
              1,
              "#f0f921"
             ]
            ],
            "type": "heatmapgl"
           }
          ],
          "histogram": [
           {
            "marker": {
             "pattern": {
              "fillmode": "overlay",
              "size": 10,
              "solidity": 0.2
             }
            },
            "type": "histogram"
           }
          ],
          "histogram2d": [
           {
            "colorbar": {
             "outlinewidth": 0,
             "ticks": ""
            },
            "colorscale": [
             [
              0,
              "#0d0887"
             ],
             [
              0.1111111111111111,
              "#46039f"
             ],
             [
              0.2222222222222222,
              "#7201a8"
             ],
             [
              0.3333333333333333,
              "#9c179e"
             ],
             [
              0.4444444444444444,
              "#bd3786"
             ],
             [
              0.5555555555555556,
              "#d8576b"
             ],
             [
              0.6666666666666666,
              "#ed7953"
             ],
             [
              0.7777777777777778,
              "#fb9f3a"
             ],
             [
              0.8888888888888888,
              "#fdca26"
             ],
             [
              1,
              "#f0f921"
             ]
            ],
            "type": "histogram2d"
           }
          ],
          "histogram2dcontour": [
           {
            "colorbar": {
             "outlinewidth": 0,
             "ticks": ""
            },
            "colorscale": [
             [
              0,
              "#0d0887"
             ],
             [
              0.1111111111111111,
              "#46039f"
             ],
             [
              0.2222222222222222,
              "#7201a8"
             ],
             [
              0.3333333333333333,
              "#9c179e"
             ],
             [
              0.4444444444444444,
              "#bd3786"
             ],
             [
              0.5555555555555556,
              "#d8576b"
             ],
             [
              0.6666666666666666,
              "#ed7953"
             ],
             [
              0.7777777777777778,
              "#fb9f3a"
             ],
             [
              0.8888888888888888,
              "#fdca26"
             ],
             [
              1,
              "#f0f921"
             ]
            ],
            "type": "histogram2dcontour"
           }
          ],
          "mesh3d": [
           {
            "colorbar": {
             "outlinewidth": 0,
             "ticks": ""
            },
            "type": "mesh3d"
           }
          ],
          "parcoords": [
           {
            "line": {
             "colorbar": {
              "outlinewidth": 0,
              "ticks": ""
             }
            },
            "type": "parcoords"
           }
          ],
          "pie": [
           {
            "automargin": true,
            "type": "pie"
           }
          ],
          "scatter": [
           {
            "marker": {
             "colorbar": {
              "outlinewidth": 0,
              "ticks": ""
             }
            },
            "type": "scatter"
           }
          ],
          "scatter3d": [
           {
            "line": {
             "colorbar": {
              "outlinewidth": 0,
              "ticks": ""
             }
            },
            "marker": {
             "colorbar": {
              "outlinewidth": 0,
              "ticks": ""
             }
            },
            "type": "scatter3d"
           }
          ],
          "scattercarpet": [
           {
            "marker": {
             "colorbar": {
              "outlinewidth": 0,
              "ticks": ""
             }
            },
            "type": "scattercarpet"
           }
          ],
          "scattergeo": [
           {
            "marker": {
             "colorbar": {
              "outlinewidth": 0,
              "ticks": ""
             }
            },
            "type": "scattergeo"
           }
          ],
          "scattergl": [
           {
            "marker": {
             "colorbar": {
              "outlinewidth": 0,
              "ticks": ""
             }
            },
            "type": "scattergl"
           }
          ],
          "scattermapbox": [
           {
            "marker": {
             "colorbar": {
              "outlinewidth": 0,
              "ticks": ""
             }
            },
            "type": "scattermapbox"
           }
          ],
          "scatterpolar": [
           {
            "marker": {
             "colorbar": {
              "outlinewidth": 0,
              "ticks": ""
             }
            },
            "type": "scatterpolar"
           }
          ],
          "scatterpolargl": [
           {
            "marker": {
             "colorbar": {
              "outlinewidth": 0,
              "ticks": ""
             }
            },
            "type": "scatterpolargl"
           }
          ],
          "scatterternary": [
           {
            "marker": {
             "colorbar": {
              "outlinewidth": 0,
              "ticks": ""
             }
            },
            "type": "scatterternary"
           }
          ],
          "surface": [
           {
            "colorbar": {
             "outlinewidth": 0,
             "ticks": ""
            },
            "colorscale": [
             [
              0,
              "#0d0887"
             ],
             [
              0.1111111111111111,
              "#46039f"
             ],
             [
              0.2222222222222222,
              "#7201a8"
             ],
             [
              0.3333333333333333,
              "#9c179e"
             ],
             [
              0.4444444444444444,
              "#bd3786"
             ],
             [
              0.5555555555555556,
              "#d8576b"
             ],
             [
              0.6666666666666666,
              "#ed7953"
             ],
             [
              0.7777777777777778,
              "#fb9f3a"
             ],
             [
              0.8888888888888888,
              "#fdca26"
             ],
             [
              1,
              "#f0f921"
             ]
            ],
            "type": "surface"
           }
          ],
          "table": [
           {
            "cells": {
             "fill": {
              "color": "#EBF0F8"
             },
             "line": {
              "color": "white"
             }
            },
            "header": {
             "fill": {
              "color": "#C8D4E3"
             },
             "line": {
              "color": "white"
             }
            },
            "type": "table"
           }
          ]
         },
         "layout": {
          "annotationdefaults": {
           "arrowcolor": "#2a3f5f",
           "arrowhead": 0,
           "arrowwidth": 1
          },
          "autotypenumbers": "strict",
          "coloraxis": {
           "colorbar": {
            "outlinewidth": 0,
            "ticks": ""
           }
          },
          "colorscale": {
           "diverging": [
            [
             0,
             "#8e0152"
            ],
            [
             0.1,
             "#c51b7d"
            ],
            [
             0.2,
             "#de77ae"
            ],
            [
             0.3,
             "#f1b6da"
            ],
            [
             0.4,
             "#fde0ef"
            ],
            [
             0.5,
             "#f7f7f7"
            ],
            [
             0.6,
             "#e6f5d0"
            ],
            [
             0.7,
             "#b8e186"
            ],
            [
             0.8,
             "#7fbc41"
            ],
            [
             0.9,
             "#4d9221"
            ],
            [
             1,
             "#276419"
            ]
           ],
           "sequential": [
            [
             0,
             "#0d0887"
            ],
            [
             0.1111111111111111,
             "#46039f"
            ],
            [
             0.2222222222222222,
             "#7201a8"
            ],
            [
             0.3333333333333333,
             "#9c179e"
            ],
            [
             0.4444444444444444,
             "#bd3786"
            ],
            [
             0.5555555555555556,
             "#d8576b"
            ],
            [
             0.6666666666666666,
             "#ed7953"
            ],
            [
             0.7777777777777778,
             "#fb9f3a"
            ],
            [
             0.8888888888888888,
             "#fdca26"
            ],
            [
             1,
             "#f0f921"
            ]
           ],
           "sequentialminus": [
            [
             0,
             "#0d0887"
            ],
            [
             0.1111111111111111,
             "#46039f"
            ],
            [
             0.2222222222222222,
             "#7201a8"
            ],
            [
             0.3333333333333333,
             "#9c179e"
            ],
            [
             0.4444444444444444,
             "#bd3786"
            ],
            [
             0.5555555555555556,
             "#d8576b"
            ],
            [
             0.6666666666666666,
             "#ed7953"
            ],
            [
             0.7777777777777778,
             "#fb9f3a"
            ],
            [
             0.8888888888888888,
             "#fdca26"
            ],
            [
             1,
             "#f0f921"
            ]
           ]
          },
          "colorway": [
           "#636efa",
           "#EF553B",
           "#00cc96",
           "#ab63fa",
           "#FFA15A",
           "#19d3f3",
           "#FF6692",
           "#B6E880",
           "#FF97FF",
           "#FECB52"
          ],
          "font": {
           "color": "#2a3f5f"
          },
          "geo": {
           "bgcolor": "white",
           "lakecolor": "white",
           "landcolor": "#E5ECF6",
           "showlakes": true,
           "showland": true,
           "subunitcolor": "white"
          },
          "hoverlabel": {
           "align": "left"
          },
          "hovermode": "closest",
          "mapbox": {
           "style": "light"
          },
          "paper_bgcolor": "white",
          "plot_bgcolor": "#E5ECF6",
          "polar": {
           "angularaxis": {
            "gridcolor": "white",
            "linecolor": "white",
            "ticks": ""
           },
           "bgcolor": "#E5ECF6",
           "radialaxis": {
            "gridcolor": "white",
            "linecolor": "white",
            "ticks": ""
           }
          },
          "scene": {
           "xaxis": {
            "backgroundcolor": "#E5ECF6",
            "gridcolor": "white",
            "gridwidth": 2,
            "linecolor": "white",
            "showbackground": true,
            "ticks": "",
            "zerolinecolor": "white"
           },
           "yaxis": {
            "backgroundcolor": "#E5ECF6",
            "gridcolor": "white",
            "gridwidth": 2,
            "linecolor": "white",
            "showbackground": true,
            "ticks": "",
            "zerolinecolor": "white"
           },
           "zaxis": {
            "backgroundcolor": "#E5ECF6",
            "gridcolor": "white",
            "gridwidth": 2,
            "linecolor": "white",
            "showbackground": true,
            "ticks": "",
            "zerolinecolor": "white"
           }
          },
          "shapedefaults": {
           "line": {
            "color": "#2a3f5f"
           }
          },
          "ternary": {
           "aaxis": {
            "gridcolor": "white",
            "linecolor": "white",
            "ticks": ""
           },
           "baxis": {
            "gridcolor": "white",
            "linecolor": "white",
            "ticks": ""
           },
           "bgcolor": "#E5ECF6",
           "caxis": {
            "gridcolor": "white",
            "linecolor": "white",
            "ticks": ""
           }
          },
          "title": {
           "x": 0.05
          },
          "xaxis": {
           "automargin": true,
           "gridcolor": "white",
           "linecolor": "white",
           "ticks": "",
           "title": {
            "standoff": 15
           },
           "zerolinecolor": "white",
           "zerolinewidth": 2
          },
          "yaxis": {
           "automargin": true,
           "gridcolor": "white",
           "linecolor": "white",
           "ticks": "",
           "title": {
            "standoff": 15
           },
           "zerolinecolor": "white",
           "zerolinewidth": 2
          }
         }
        },
        "title": {
         "text": "Heuristics vs Time"
        },
        "xaxis": {
         "anchor": "y",
         "domain": [
          0,
          1
         ],
         "title": {
          "text": "Heuristic"
         }
        },
        "yaxis": {
         "anchor": "x",
         "domain": [
          0,
          1
         ],
         "title": {
          "text": "Time"
         }
        }
       }
      }
     },
     "metadata": {}
    }
   ],
   "metadata": {}
  }
 ],
 "metadata": {
  "orig_nbformat": 4,
  "language_info": {
   "name": "python",
   "version": "3.7.4",
   "mimetype": "text/x-python",
   "codemirror_mode": {
    "name": "ipython",
    "version": 3
   },
   "pygments_lexer": "ipython3",
   "nbconvert_exporter": "python",
   "file_extension": ".py"
  },
  "kernelspec": {
   "name": "python3",
   "display_name": "Python 3.7.4 64-bit ('Assignment_1-EiHcuPt_': virtualenv)"
  },
  "interpreter": {
   "hash": "40668e00e75314677469e0f944e09e48f2238958bb35b68085ad428d095cdb0e"
  }
 },
 "nbformat": 4,
 "nbformat_minor": 2
}