{
 "cells": [
  {
   "cell_type": "code",
   "execution_count": null,
   "source": [
    "# imports\n",
    "from subprocess import check_output\n",
    "import pandas as pd\n",
    "import plotly.express as px\n",
    "import plotly\n",
    "import re\n",
    "import nbformat\n",
    "import time"
   ],
   "outputs": [],
   "metadata": {}
  },
  {
   "cell_type": "code",
   "execution_count": null,
   "source": [
    "# run code for each p value repeat times from 0.1 to 0.9\n",
    "question_four_df = pd.DataFrame(columns = ['Density', 'Solvability'])\n",
    "repeat = 100\n",
    "\n",
    "for i in range(10):\n",
    "    count = 0\n",
    "    p = 0.1 * i\n",
    "    for x in range(repeat):\n",
    "        command = 'python main.py -d 101 -a a_star -p {}'.format(p)\n",
    "        out = str(check_output(command, cwd='/Users/advithchegu/Desktop/Rutgers/Fall 2021/AI/Assignment 1', shell=True))\n",
    "        if 'No Path Found' in out:\n",
    "            continue\n",
    "        else:\n",
    "            count += 1\n",
    "    count /= repeat\n",
    "    question_four_df = question_four_df.append([{'Density': p, 'Solvability': count}], ignore_index=True)\n",
    "\n",
    "print(question_four_df)"
   ],
   "outputs": [],
   "metadata": {}
  },
  {
   "cell_type": "code",
   "execution_count": null,
   "source": [
    "# plot the scores array\n",
    "fig = px.line(question_four_df, x=\"Density\", y=\"Solvability\", title='Plot Density vs Solvability', text=\"Solvability\")\n",
    "fig.update_traces(textposition=\"bottom left\")\n",
    "fig.show()\n",
    "\n",
    "plotly.io.write_image(fig, file=\"./graphs/question_4.png\", scale=5)"
   ],
   "outputs": [],
   "metadata": {}
  },
  {
   "cell_type": "code",
   "execution_count": 81,
   "source": [
    "# measure heuristic efficiency\n",
    "times_df = pd.DataFrame(columns = ['Time', 'Heuristic', 'Density', 'Trajectory'])\n",
    "\n",
    "# 6,100\n",
    "\n",
    "for i in range (100):\n",
    "    for x in range(4):\n",
    "\n",
    "        p = 0.1*x\n",
    "\n",
    "        command = 'python main.py -d 101 -a repeated_a_star -m combined -p ' + str(p)\n",
    "        out = str(check_output(command, cwd='/Users/advithchegu/Desktop/Rutgers/Fall 2021/AI/Assignment 1', shell=True))\n",
    "        \n",
    "        while 'No Path Found' in out:\n",
    "            out = str(check_output(command, cwd='/Users/advithchegu/Desktop/Rutgers/Fall 2021/AI/Assignment 1', shell=True))\n",
    "        \n",
    "        overall_arr = out.lstrip(\"b'\").rstrip(\"'\").replace(\"\\\\n\", \"\").split(',')\n",
    "\n",
    "        for i,r in enumerate(overall_arr):\n",
    "            res = r.strip(\"'\").split(\" \")\n",
    "            if i == 0:\n",
    "                times_df = times_df.append([{'Time': float(res[0]), 'Heuristic': 'Chebyshev', 'Density': p, 'Trajectory': int(res[1])}])\n",
    "            if i == 1:\n",
    "                times_df = times_df.append([{'Time': float(res[0]), 'Heuristic': 'Manhattan', 'Density': p, 'Trajectory': int(res[1])}])\n",
    "            if i == 2:\n",
    "                times_df = times_df.append([{'Time': float(res[0]), 'Heuristic': 'Euclidian', 'Density': p, 'Trajectory': int(res[1])}])\n",
    "            if i == 3:\n",
    "                times_df = times_df.append([{'Time': float(res[0]), 'Heuristic': 'Weighted Manhattan', 'Density': p, 'Trajectory': int(res[1])}])\n",
    "            if i == 4:\n",
    "                times_df = times_df.append([{'Time': float(res[0]), 'Heuristic': 'Combined Chebyshev Manhattan', 'Density': p, 'Trajectory': int(res[1])}])\n",
    "            if i == 5:\n",
    "                times_df = times_df.append([{'Time': float(res[0]), 'Heuristic': 'Combined Chebyshev Euclidian', 'Density': p, 'Trajectory': int(res[1])}])\n",
    "            if i == 6:\n",
    "                times_df = times_df.append([{'Time': float(res[0]), 'Heuristic': 'Combined Manhattan Euclidian', 'Density': p, 'Trajectory': int(res[1])}])\n",
    "        \n",
    "        # times = re.search(r\"b'times: \\[\\d+\", out).group()\n",
    "        # trajectories = int(re.search(r\"trajectories: \\[\\d+\", out).group().lstrip(\"Completed in \"))\n",
    "        # list(map(float, formatted))\n",
    "\n",
    "        # , {'Time': formatted[1], 'Heuristic': 'Manhattan'}, {'Time': formatted[2], 'Heuristic': 'Euclidian'}], ignore_index=True)\n",
    "\n",
    "        # times_df = times_df.append([{'Time': formatted[0], 'Heuristic': 'Chebyshev'}, {'Time': formatted[1], 'Heuristic': 'Manhattan'}, {'Time': formatted[2], 'Heuristic': 'Euclidian'}], ignore_index=True)\n",
    "\n",
    "        # print(times_df)\n",
    "\n",
    "\n",
    "print(times_df)"
   ],
   "outputs": [],
   "metadata": {}
  },
  {
   "cell_type": "code",
   "execution_count": null,
   "source": [
    "# plot the box plots\n",
    "fig = px.box(times_df, x=\"Heuristic\", y=\"Time\", title=\"Heuristics vs Time\")\n",
    "fig.show()\n",
    "plotly.io.write_image(fig, file=\"./graphs/question_5.jpg\", scale=5)"
   ],
   "outputs": [],
   "metadata": {}
  },
  {
   "cell_type": "code",
   "execution_count": null,
   "source": [
    "question_seven_df = pd.DataFrame(columns = ['Density', 'Trajectory', 'Discovered Shortest Path', 'Final Shortest Path', 'Processed Cells', 'Trial'])\n",
    "\n",
    "for i in range(100):\n",
    "    for x in range(12):\n",
    "        p = 0.03*x\n",
    "        command = 'python main.py -d 101 -a repeated_a_star -m all -p ' + str(p)\n",
    "\n",
    "        while True:\n",
    "            out = str(check_output(command, cwd='/Users/advithchegu/Desktop/Rutgers/Fall 2021/AI/Assignment 1', shell=True))\n",
    "            trajectory = int(re.search(r\"Trajectory Length: \\d+\", out).group().lstrip(\"Trajectory Length: \"))\n",
    "            shortest_path = int(re.search(r\"Shortest Path: \\d+\", out).group().lstrip(\"Shortest Path: \"))\n",
    "            full_world_shortest_path = int(re.search(r\"Full Gridworld Path: \\d+\", out).group().lstrip(\"Full Gridworld Path: \"))\n",
    "            processed_cells = int(re.search(r\"Processed \\d+\", out).group().lstrip(\"Processed \"))\n",
    "\n",
    "            if shortest_path > 0:\n",
    "                break\n",
    "        \n",
    "        question_seven_df = question_seven_df.append([{'Density': p, 'Trajectory': trajectory, 'Discovered Shortest Path': shortest_path, 'Final Shortest Path': full_world_shortest_path, 'Processed Cells': processed_cells, 'Trial': i+1}])\n",
    "# print(question_six_df)"
   ],
   "outputs": [],
   "metadata": {}
  },
  {
   "cell_type": "code",
   "execution_count": null,
   "source": [
    "grouped_df = question_seven_df.groupby('Density')\n",
    "avg_seven_df = grouped_df.mean()\n",
    "avg_seven_df = avg_seven_df.reset_index()"
   ],
   "outputs": [],
   "metadata": {}
  },
  {
   "cell_type": "code",
   "execution_count": null,
   "source": [
    "# do some calculations\n",
    "avg_seven_df['Trajectory / Shortest Path (Disc.)'] = round(avg_seven_df['Trajectory'] / avg_seven_df['Discovered Shortest Path'], 3)\n",
    "avg_seven_df['Shortest Path (Disc.) / Shortest Path (Final)'] = round(avg_seven_df['Discovered Shortest Path'] / avg_seven_df['Final Shortest Path'], 3)"
   ],
   "outputs": [],
   "metadata": {}
  },
  {
   "cell_type": "code",
   "execution_count": null,
   "source": [
    "\n",
    "fig1 = px.line(avg_seven_df, x=\"Density\", y=\"Trajectory\", title='Density vs Average Trajectory Length (Reduced Field)', text='Trajectory')\n",
    "fig1.update_xaxes(dtick=0.03)\n",
    "fig1.update_traces(textposition=\"bottom right\")\n",
    "fig1.show()\n",
    "\n",
    "plotly.io.write_image(fig1, file=\"./graphs/question_7_1.png\", scale=5)"
   ],
   "outputs": [],
   "metadata": {}
  },
  {
   "cell_type": "code",
   "execution_count": null,
   "source": [
    "fig2 = px.line(avg_seven_df, x=\"Density\", y=\"Trajectory / Shortest Path (Disc.)\", title='Density vs Average Shortest Path Lengths (Reduced Field)', text='Trajectory / Shortest Path (Disc.)')\n",
    "fig2.update_xaxes(dtick=0.03)\n",
    "fig2.update_traces(textposition=\"bottom right\")\n",
    "fig2.show()\n",
    "\n",
    "plotly.io.write_image(fig2, file=\"./graphs/question_7_2.png\", scale=5)"
   ],
   "outputs": [],
   "metadata": {}
  },
  {
   "cell_type": "code",
   "execution_count": null,
   "source": [
    "fig3 = px.line(avg_seven_df, x=\"Density\", y=\"Shortest Path (Disc.) / Shortest Path (Final)\", title='Density vs Average Shortest Path Lengths (Reduced Field)', text='Shortest Path (Disc.) / Shortest Path (Final)')\n",
    "fig3.update_xaxes(dtick=0.03)\n",
    "fig3.update_traces(textposition=\"bottom right\")\n",
    "fig3.show()\n",
    "\n",
    "plotly.io.write_image(fig3, file=\"./graphs/question_7_3.png\", scale=5)"
   ],
   "outputs": [],
   "metadata": {}
  },
  {
   "cell_type": "code",
   "execution_count": null,
   "source": [
    "fig4 = px.line(avg_seven_df, x=\"Density\", y=\"Processed Cells\", title='Density vs Processed Cells', text='Processed Cells')\n",
    "fig4.update_xaxes(dtick=0.03)\n",
    "fig4.update_traces(textposition=\"bottom right\")\n",
    "fig4.show()\n",
    "\n",
    "plotly.io.write_image(fig4, file=\"./graphs/question_7_4.png\", scale=5)"
   ],
   "outputs": [],
   "metadata": {}
  },
  {
   "cell_type": "code",
   "execution_count": null,
   "source": [
    "question_seven_df.to_csv('misc/question_7.csv')\n",
    "avg_seven_df.to_csv('misc/question_7_avg.csv')"
   ],
   "outputs": [],
   "metadata": {}
  }
 ],
 "metadata": {
  "orig_nbformat": 4,
  "language_info": {
   "name": "python",
   "version": "3.7.4",
   "mimetype": "text/x-python",
   "codemirror_mode": {
    "name": "ipython",
    "version": 3
   },
   "pygments_lexer": "ipython3",
   "nbconvert_exporter": "python",
   "file_extension": ".py"
  },
  "kernelspec": {
   "name": "python3",
   "display_name": "Python 3.7.4 64-bit ('Assignment_1-EiHcuPt_': virtualenv)"
  },
  "interpreter": {
   "hash": "40668e00e75314677469e0f944e09e48f2238958bb35b68085ad428d095cdb0e"
  }
 },
 "nbformat": 4,
 "nbformat_minor": 2
}